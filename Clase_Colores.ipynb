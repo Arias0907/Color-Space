{
  "nbformat": 4,
  "nbformat_minor": 0,
  "metadata": {
    "colab": {
      "name": "Clase_Colores.ipynb",
      "version": "0.3.2",
      "provenance": [],
      "include_colab_link": true
    },
    "kernelspec": {
      "name": "python3",
      "display_name": "Python 3"
    }
  },
  "cells": [
    {
      "cell_type": "markdown",
      "metadata": {
        "id": "view-in-github",
        "colab_type": "text"
      },
      "source": [
        "<a href=\"https://colab.research.google.com/github/Arias0907/Color-Space/blob/master/Clase_Colores.ipynb\" target=\"_parent\"><img src=\"https://colab.research.google.com/assets/colab-badge.svg\" alt=\"Open In Colab\"/></a>"
      ]
    },
    {
      "cell_type": "code",
      "metadata": {
        "id": "j94fC6QYfEvu",
        "colab_type": "code",
        "colab": {
          "base_uri": "https://localhost:8080/",
          "height": 122
        },
        "outputId": "d4680ba4-4f75-4c84-ec2f-bd5935bd1ba5"
      },
      "source": [
        "from google.colab import drive\n",
        "drive.mount('/content/drive')"
      ],
      "execution_count": 1,
      "outputs": [
        {
          "output_type": "stream",
          "text": [
            "Go to this URL in a browser: https://accounts.google.com/o/oauth2/auth?client_id=947318989803-6bn6qk8qdgf4n4g3pfee6491hc0brc4i.apps.googleusercontent.com&redirect_uri=urn%3Aietf%3Awg%3Aoauth%3A2.0%3Aoob&scope=email%20https%3A%2F%2Fwww.googleapis.com%2Fauth%2Fdocs.test%20https%3A%2F%2Fwww.googleapis.com%2Fauth%2Fdrive%20https%3A%2F%2Fwww.googleapis.com%2Fauth%2Fdrive.photos.readonly%20https%3A%2F%2Fwww.googleapis.com%2Fauth%2Fpeopleapi.readonly&response_type=code\n",
            "\n",
            "Enter your authorization code:\n",
            "··········\n",
            "Mounted at /content/drive\n"
          ],
          "name": "stdout"
        }
      ]
    },
    {
      "cell_type": "code",
      "metadata": {
        "id": "SMR3P1Whf4pu",
        "colab_type": "code",
        "colab": {
          "base_uri": "https://localhost:8080/",
          "height": 34
        },
        "outputId": "7d1010a0-dbd0-4a49-f5be-9bfc479743cc"
      },
      "source": [
        "import numpy as np\n",
        "import matplotlib.pyplot as plt\n",
        "import cv2\n",
        "import os\n",
        "\n",
        "path='/content/drive/My Drive/PDI/Rubix'\n",
        "os.chdir(path)\n",
        "!pwd\n",
        "# graficar imagenes estaticas en el notebook\n",
        "\n",
        "%matplotlib inline"
      ],
      "execution_count": 4,
      "outputs": [
        {
          "output_type": "stream",
          "text": [
            "/content/drive/My Drive/PDI/Rubix\n"
          ],
          "name": "stdout"
        }
      ]
    },
    {
      "cell_type": "code",
      "metadata": {
        "id": "Ws05OW2_ghdA",
        "colab_type": "code",
        "colab": {}
      },
      "source": [
        "def display4(a,b,c,d, title1 = \"Original\", title2 = \"Edited\", title3 = \"Edited\", title4 = \"Edited\"):\n",
        "    plt.figure(figsize=(12,4))\n",
        "    plt.subplot(141), plt.imshow(a), plt.title(title1)\n",
        "    plt.xticks([]), plt.yticks([])\n",
        "    plt.subplot(142), plt.imshow(b, cmap='gray'), plt.title(title2)\n",
        "    plt.xticks([]), plt.yticks([])\n",
        "    plt.subplot(143), plt.imshow(c, cmap = 'gray'), plt.title(title3)\n",
        "    plt.xticks([]), plt.yticks([])\n",
        "    plt.subplot(144), plt.imshow(d, cmap = 'gray'), plt.title(title4)\n",
        "    plt.xticks([]), plt.yticks([])\n",
        "    plt.show()"
      ],
      "execution_count": 0,
      "outputs": []
    },
    {
      "cell_type": "markdown",
      "metadata": {
        "id": "snJ1bkBHve6x",
        "colab_type": "text"
      },
      "source": [
        "#**BGR Color-Space**\n"
      ]
    },
    {
      "cell_type": "code",
      "metadata": {
        "id": "kYynEViSh1CL",
        "colab_type": "code",
        "colab": {}
      },
      "source": [
        "# Leer una imagen\n",
        "# principle of least astonishment (surprice) \n",
        "img_BGR=cv2.imread('rub07.jpg', cv2.IMREAD_COLOR)\n",
        "#b,g,r = cv2.split(img_BGR) \n",
        "\n",
        "b = img_BGR[:,:,0]\n",
        "g = img_BGR[:,:,1]\n",
        "r = img_BGR[:,:,2]\n",
        "\n",
        "display4(img_BGR,b,g,r,\"BGR\", \"b\", \"g\", \"r\")"
      ],
      "execution_count": 0,
      "outputs": []
    },
    {
      "cell_type": "code",
      "metadata": {
        "id": "EADk1QTfnNY9",
        "colab_type": "code",
        "colab": {}
      },
      "source": [
        "count = 2 \n",
        "plt.figure(figsize=(12,4))\n",
        "plt.subplot(1,4,1), plt.imshow(img_BGR/255.0), plt.title(\"Original BGR\")\n",
        "plt.axis(\"off\")\n",
        "for i, lab in enumerate([\"R\",\"G\",\"B\"]):\n",
        "    crgb = np.zeros(img_BGR.shape)\n",
        "    crgb[:,:,i] = img_BGR[:,:,i]\n",
        "    plt.subplot(1,4,count), plt.imshow(crgb/255.0), plt.title(lab)\n",
        "    plt.axis(\"off\")\n",
        "    count += 1\n",
        "    \n",
        "plt.show()"
      ],
      "execution_count": 0,
      "outputs": []
    },
    {
      "cell_type": "markdown",
      "metadata": {
        "id": "sz28hJHHvmT5",
        "colab_type": "text"
      },
      "source": [
        "#**RGB Color-Space**"
      ]
    },
    {
      "cell_type": "code",
      "metadata": {
        "id": "YciCI88TqIb7",
        "colab_type": "code",
        "colab": {}
      },
      "source": [
        "# pasar la imagen a rgb\n",
        "img_RGB=cv2.cvtColor(img_BGR,cv2.COLOR_BGR2RGB)\n",
        "r,g,b = cv2.split(img_RGB)\n",
        "\n",
        "display4(img_RGB,r,g,b,\"RGB\",\"r\",\"g\",\"b\")\n",
        "\n"
      ],
      "execution_count": 0,
      "outputs": []
    },
    {
      "cell_type": "code",
      "metadata": {
        "id": "CCR4G6hArYhF",
        "colab_type": "code",
        "colab": {}
      },
      "source": [
        "count = 2 \n",
        "plt.figure(figsize=(12,4))\n",
        "plt.subplot(1,4,1), plt.imshow(img_RGB/255.0), plt.title(\"Original RGB\")\n",
        "plt.axis(\"off\")\n",
        "for i, lab in enumerate([\"R\",\"G\",\"B\"]):\n",
        "    crgb = np.zeros(img_RGB.shape)\n",
        "    crgb[:,:,i] = img_RGB[:,:,i]\n",
        "    plt.subplot(1,4,count), plt.imshow(crgb/255.0), plt.title(lab)\n",
        "    plt.axis(\"off\")\n",
        "    count += 1\n",
        "    \n",
        "plt.show()"
      ],
      "execution_count": 0,
      "outputs": []
    },
    {
      "cell_type": "markdown",
      "metadata": {
        "id": "WujCjfwFvUYx",
        "colab_type": "text"
      },
      "source": [
        "#**LAB Color-Space**\n"
      ]
    },
    {
      "cell_type": "code",
      "metadata": {
        "id": "T86f0vQksgpd",
        "colab_type": "code",
        "colab": {}
      },
      "source": [
        "img_LAB=cv2.cvtColor(img_BGR, cv2.COLOR_BGR2LAB)\n",
        "L,A,B = cv2.split(img_LAB)\n",
        "\n",
        "display4(img_LAB,L,A,B, \"LAB\",\"L\",\"A\",\"B\")"
      ],
      "execution_count": 0,
      "outputs": []
    },
    {
      "cell_type": "markdown",
      "metadata": {
        "id": "M6mFIAfBvN9A",
        "colab_type": "text"
      },
      "source": [
        "#**YCrCb Color-Space**\n"
      ]
    },
    {
      "cell_type": "code",
      "metadata": {
        "id": "ELfCX7QQuxr4",
        "colab_type": "code",
        "colab": {}
      },
      "source": [
        "img_YCrCb=cv2.cvtColor(img_BGR, cv2.COLOR_BGR2YCrCb)\n",
        "Y,Cr,Cb = cv2.split(img_YCrCb)\n",
        "display4(img_YCrCb,Y,Cr,Cb,\"YCrCb\",\"Y\",\"Cr\",\"Cb\")\n"
      ],
      "execution_count": 0,
      "outputs": []
    },
    {
      "cell_type": "markdown",
      "metadata": {
        "id": "monGjGsVwgZZ",
        "colab_type": "text"
      },
      "source": [
        "#**HSV Color-Space**"
      ]
    },
    {
      "cell_type": "code",
      "metadata": {
        "id": "zjqGX5Xywjmx",
        "colab_type": "code",
        "colab": {}
      },
      "source": [
        "img_HSV=cv2.cvtColor(img_BGR, cv2.COLOR_BGR2HSV)\n",
        "H,S,V = cv2.split(img_HSV)\n",
        "display4(img_HSV,H,S,V,\"HSV\",\"H\",\"S\",\"V\")"
      ],
      "execution_count": 0,
      "outputs": []
    }
  ]
}